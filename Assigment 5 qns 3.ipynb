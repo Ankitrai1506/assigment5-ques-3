{
 "cells": [
  {
   "cell_type": "raw",
   "id": "7a3bcbbc",
   "metadata": {},
   "source": [
    "Problem statement\n",
    "\n",
    "Implement the complete Student class by completing the tasks below\n",
    "\n",
    "Task\n",
    "\n",
    "👉 Implement the following properties as private:\n",
    "\n",
    "• name\n",
    "• rollNumber\n",
    "👉 Include the following methods to get and set the private properties above:\n",
    "\n",
    "• getName()\n",
    "• setName()\n",
    "• getRollNumber()\n",
    "• setRollNumber()\n",
    "👉 Implement this class according to the rules of encapsulation.\n",
    "\n",
    "Input - Checking all the properties and methods\n",
    "\n",
    "Output - Expecting perfectly defined fields and getter/setters\n",
    "\n",
    "Note: Do not use initializers to initialize the properties. Use the set methods to do so.\n",
    "\n",
    "If the setter is not defined properly, the corresponding getter will also generate an error even if the getter is defined properly."
   ]
  },
  {
   "cell_type": "code",
   "execution_count": 2,
   "id": "b3cb1261",
   "metadata": {},
   "outputs": [
    {
     "name": "stdout",
     "output_type": "stream",
     "text": [
      "Enter the nameRAHUL\n",
      "Enter the roll number123456\n",
      "Name is:  RAHUL\n",
      "Roll Number is: 123456\n"
     ]
    }
   ],
   "source": [
    "class Student:\n",
    "    def __init__(self):\n",
    "        self.name = None\n",
    "        self.rollNumber = None\n",
    "\n",
    "    def getName(self):\n",
    "        return self.name\n",
    "\n",
    "    def setName(self, name):\n",
    "        self.name = name\n",
    "\n",
    "    def getRollNumber(self):\n",
    "        return self.rollNumber\n",
    "\n",
    "    def setRollNumber(self, rollNumber):\n",
    "        self.rollNumber = rollNumber\n",
    "\n",
    "student = Student()\n",
    "name=str(input(\"Enter the name\"))\n",
    "roll_num=input(\"Enter the roll number\")\n",
    "student.setName(name)\n",
    "student.setRollNumber(roll_num)\n",
    "\n",
    "print(\"Name is: \", student.getName())\n",
    "print(\"Roll Number is:\", student.getRollNumber())"
   ]
  },
  {
   "cell_type": "code",
   "execution_count": null,
   "id": "aed4b2e7",
   "metadata": {},
   "outputs": [],
   "source": []
  }
 ],
 "metadata": {
  "kernelspec": {
   "display_name": "Python 3 (ipykernel)",
   "language": "python",
   "name": "python3"
  },
  "language_info": {
   "codemirror_mode": {
    "name": "ipython",
    "version": 3
   },
   "file_extension": ".py",
   "mimetype": "text/x-python",
   "name": "python",
   "nbconvert_exporter": "python",
   "pygments_lexer": "ipython3",
   "version": "3.10.9"
  }
 },
 "nbformat": 4,
 "nbformat_minor": 5
}
